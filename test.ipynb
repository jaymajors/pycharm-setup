{
 "cells": [
  {
   "metadata": {
    "ExecuteTime": {
     "end_time": "2025-07-19T02:26:09.220313Z",
     "start_time": "2025-07-19T02:26:09.209513Z"
    }
   },
   "cell_type": "code",
   "source": [
    "def add_numbers(a: float, b: float) -> float:\n",
    "    \"\"\"\n",
    "    Add two numbers together.\n",
    "    \n",
    "    Args:\n",
    "        a: First number\n",
    "        b: Second number\n",
    "        \n",
    "    Returns:\n",
    "        Sum of the two numbers\n",
    "    \"\"\"\n",
    "    return a + b"
   ],
   "id": "f107f5bda918ee9d",
   "outputs": [],
   "execution_count": 1
  },
  {
   "metadata": {
    "ExecuteTime": {
     "end_time": "2025-07-19T02:26:09.254057Z",
     "start_time": "2025-07-19T02:26:09.242106Z"
    }
   },
   "cell_type": "code",
   "source": "add_numbers(2, 2)",
   "id": "96cb41b482be048b",
   "outputs": [
    {
     "data": {
      "text/plain": [
       "4"
      ]
     },
     "execution_count": 2,
     "metadata": {},
     "output_type": "execute_result"
    }
   ],
   "execution_count": 2
  }
 ],
 "metadata": {
  "kernelspec": {
   "display_name": "Python 3",
   "language": "python",
   "name": "python3"
  },
  "language_info": {
   "codemirror_mode": {
    "name": "ipython",
    "version": 2
   },
   "file_extension": ".py",
   "mimetype": "text/x-python",
   "name": "python",
   "nbconvert_exporter": "python",
   "pygments_lexer": "ipython2",
   "version": "2.7.6"
  }
 },
 "nbformat": 4,
 "nbformat_minor": 5
}
